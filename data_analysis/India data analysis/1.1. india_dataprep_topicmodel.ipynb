{
 "cells": [
  {
   "cell_type": "markdown",
   "id": "33fd66ca-4639-4e81-ad64-deeba2b5c99c",
   "metadata": {},
   "source": [
    "### Data preparation - Indian news corpus\n",
    "\n",
    "This script reads and processes excel file of all indian news articles in the corpus. It checks contents of the files, performs some preliminary data cleaning, and extracts information in preparation for BERTopic modeling. The output is a prepared dataset, ready for input to BERTopic. "
   ]
  },
  {
   "cell_type": "code",
   "execution_count": 1,
   "id": "73ac602a-cd78-4501-bcbb-9a1ee65cb986",
   "metadata": {},
   "outputs": [
    {
     "data": {
      "text/plain": [
       "'C:\\\\Users\\\\mb1110\\\\OneDrive - University of Exeter\\\\Desktop\\\\Phd project data\\\\India data'"
      ]
     },
     "execution_count": 1,
     "metadata": {},
     "output_type": "execute_result"
    }
   ],
   "source": [
    "import os\n",
    "\n",
    "os.getcwd()"
   ]
  },
  {
   "cell_type": "code",
   "execution_count": 2,
   "id": "9e6a7661-aaa8-4c38-bf3d-9f7a8c2a1d2a",
   "metadata": {},
   "outputs": [
    {
     "data": {
      "text/plain": [
       "['.ipynb_checkpoints',\n",
       " '1. India data v2.ipynb',\n",
       " '1. India data.ipynb',\n",
       " '1. india_data_prep.ipynb',\n",
       " 'in_all.xlsx',\n",
       " 'requirements.txt']"
      ]
     },
     "execution_count": 2,
     "metadata": {},
     "output_type": "execute_result"
    }
   ],
   "source": [
    "os.listdir()"
   ]
  },
  {
   "cell_type": "code",
   "execution_count": 8,
   "id": "d3cb342e-ca6a-446b-b2f1-cc4143e004d3",
   "metadata": {},
   "outputs": [
    {
     "data": {
      "text/html": [
       "<div>\n",
       "<style scoped>\n",
       "    .dataframe tbody tr th:only-of-type {\n",
       "        vertical-align: middle;\n",
       "    }\n",
       "\n",
       "    .dataframe tbody tr th {\n",
       "        vertical-align: top;\n",
       "    }\n",
       "\n",
       "    .dataframe thead th {\n",
       "        text-align: right;\n",
       "    }\n",
       "</style>\n",
       "<table border=\"1\" class=\"dataframe\">\n",
       "  <thead>\n",
       "    <tr style=\"text-align: right;\">\n",
       "      <th></th>\n",
       "      <th>uri</th>\n",
       "      <th>lang</th>\n",
       "      <th>isDuplicate</th>\n",
       "      <th>date</th>\n",
       "      <th>time</th>\n",
       "      <th>dateTime</th>\n",
       "      <th>dateTimePub</th>\n",
       "      <th>dataType</th>\n",
       "      <th>sim</th>\n",
       "      <th>url</th>\n",
       "      <th>...</th>\n",
       "      <th>authors</th>\n",
       "      <th>links</th>\n",
       "      <th>videos</th>\n",
       "      <th>image</th>\n",
       "      <th>eventUri</th>\n",
       "      <th>location</th>\n",
       "      <th>shares</th>\n",
       "      <th>sentiment</th>\n",
       "      <th>wgt</th>\n",
       "      <th>relevance</th>\n",
       "    </tr>\n",
       "  </thead>\n",
       "  <tbody>\n",
       "    <tr>\n",
       "      <th>0</th>\n",
       "      <td>150014058</td>\n",
       "      <td>eng</td>\n",
       "      <td>True</td>\n",
       "      <td>2014-01-13</td>\n",
       "      <td>01:39:00</td>\n",
       "      <td>2014-01-13T01:39:00Z</td>\n",
       "      <td>NaN</td>\n",
       "      <td>news</td>\n",
       "      <td>0.000000</td>\n",
       "      <td>http://www.ndtv.com/article/world/australian-w...</td>\n",
       "      <td>...</td>\n",
       "      <td>[{'uri': 'agence_france_presse@ndtv.com', 'nam...</td>\n",
       "      <td>[]</td>\n",
       "      <td>[]</td>\n",
       "      <td>NaN</td>\n",
       "      <td>NaN</td>\n",
       "      <td>NaN</td>\n",
       "      <td>{'facebook': 1}</td>\n",
       "      <td>-0.592157</td>\n",
       "      <td>127273140</td>\n",
       "      <td>127273140</td>\n",
       "    </tr>\n",
       "    <tr>\n",
       "      <th>1</th>\n",
       "      <td>150354214</td>\n",
       "      <td>eng</td>\n",
       "      <td>False</td>\n",
       "      <td>2014-01-14</td>\n",
       "      <td>07:03:00</td>\n",
       "      <td>2014-01-14T07:03:00Z</td>\n",
       "      <td>NaN</td>\n",
       "      <td>news</td>\n",
       "      <td>0.847059</td>\n",
       "      <td>http://www.ndtv.com/article/world/australia-br...</td>\n",
       "      <td>...</td>\n",
       "      <td>[{'uri': 'agence_france_presse@ndtv.com', 'nam...</td>\n",
       "      <td>[]</td>\n",
       "      <td>[]</td>\n",
       "      <td>NaN</td>\n",
       "      <td>eng-72983</td>\n",
       "      <td>{'type': 'place', 'label': {'eng': 'Sydney'}, ...</td>\n",
       "      <td>{'facebook': 2}</td>\n",
       "      <td>-0.631373</td>\n",
       "      <td>127378980</td>\n",
       "      <td>127378980</td>\n",
       "    </tr>\n",
       "    <tr>\n",
       "      <th>2</th>\n",
       "      <td>157889662</td>\n",
       "      <td>eng</td>\n",
       "      <td>False</td>\n",
       "      <td>2014-02-10</td>\n",
       "      <td>04:25:00</td>\n",
       "      <td>2014-02-10T04:25:00Z</td>\n",
       "      <td>NaN</td>\n",
       "      <td>news</td>\n",
       "      <td>0.894118</td>\n",
       "      <td>http://www.ndtv.com/article/world/australian-w...</td>\n",
       "      <td>...</td>\n",
       "      <td>[]</td>\n",
       "      <td>[]</td>\n",
       "      <td>[]</td>\n",
       "      <td>NaN</td>\n",
       "      <td>eng-147295</td>\n",
       "      <td>{'type': 'place', 'label': {'eng': 'Melbourne'...</td>\n",
       "      <td>{'facebook': 3}</td>\n",
       "      <td>-0.647059</td>\n",
       "      <td>129702300</td>\n",
       "      <td>129702300</td>\n",
       "    </tr>\n",
       "    <tr>\n",
       "      <th>3</th>\n",
       "      <td>162118267</td>\n",
       "      <td>eng</td>\n",
       "      <td>False</td>\n",
       "      <td>2014-02-24</td>\n",
       "      <td>10:55:00</td>\n",
       "      <td>2014-02-24T10:55:00Z</td>\n",
       "      <td>NaN</td>\n",
       "      <td>news</td>\n",
       "      <td>0.901961</td>\n",
       "      <td>http://www.ndtv.com/article/world/costs-of-nat...</td>\n",
       "      <td>...</td>\n",
       "      <td>[{'uri': 'reuters@ndtv.com', 'name': 'Reuters'...</td>\n",
       "      <td>[]</td>\n",
       "      <td>[]</td>\n",
       "      <td>NaN</td>\n",
       "      <td>eng-171480</td>\n",
       "      <td>NaN</td>\n",
       "      <td>{}</td>\n",
       "      <td>-0.584314</td>\n",
       "      <td>130935300</td>\n",
       "      <td>130935300</td>\n",
       "    </tr>\n",
       "    <tr>\n",
       "      <th>4</th>\n",
       "      <td>174682220</td>\n",
       "      <td>eng</td>\n",
       "      <td>False</td>\n",
       "      <td>2014-04-11</td>\n",
       "      <td>12:09:00</td>\n",
       "      <td>2014-04-11T12:09:00Z</td>\n",
       "      <td>NaN</td>\n",
       "      <td>news</td>\n",
       "      <td>0.654902</td>\n",
       "      <td>http://www.ndtv.com/elections/article/election...</td>\n",
       "      <td>...</td>\n",
       "      <td>[]</td>\n",
       "      <td>[]</td>\n",
       "      <td>[]</td>\n",
       "      <td>NaN</td>\n",
       "      <td>eng-301292</td>\n",
       "      <td>{'type': 'place', 'label': {'eng': 'Balasore'}...</td>\n",
       "      <td>{'facebook': 1}</td>\n",
       "      <td>-0.623529</td>\n",
       "      <td>134914140</td>\n",
       "      <td>134914140</td>\n",
       "    </tr>\n",
       "  </tbody>\n",
       "</table>\n",
       "<p>5 rows × 23 columns</p>\n",
       "</div>"
      ],
      "text/plain": [
       "         uri lang  isDuplicate        date      time              dateTime  \\\n",
       "0  150014058  eng         True  2014-01-13  01:39:00  2014-01-13T01:39:00Z   \n",
       "1  150354214  eng        False  2014-01-14  07:03:00  2014-01-14T07:03:00Z   \n",
       "2  157889662  eng        False  2014-02-10  04:25:00  2014-02-10T04:25:00Z   \n",
       "3  162118267  eng        False  2014-02-24  10:55:00  2014-02-24T10:55:00Z   \n",
       "4  174682220  eng        False  2014-04-11  12:09:00  2014-04-11T12:09:00Z   \n",
       "\n",
       "  dateTimePub dataType       sim  \\\n",
       "0         NaN     news  0.000000   \n",
       "1         NaN     news  0.847059   \n",
       "2         NaN     news  0.894118   \n",
       "3         NaN     news  0.901961   \n",
       "4         NaN     news  0.654902   \n",
       "\n",
       "                                                 url  ...  \\\n",
       "0  http://www.ndtv.com/article/world/australian-w...  ...   \n",
       "1  http://www.ndtv.com/article/world/australia-br...  ...   \n",
       "2  http://www.ndtv.com/article/world/australian-w...  ...   \n",
       "3  http://www.ndtv.com/article/world/costs-of-nat...  ...   \n",
       "4  http://www.ndtv.com/elections/article/election...  ...   \n",
       "\n",
       "                                             authors links videos image  \\\n",
       "0  [{'uri': 'agence_france_presse@ndtv.com', 'nam...    []     []   NaN   \n",
       "1  [{'uri': 'agence_france_presse@ndtv.com', 'nam...    []     []   NaN   \n",
       "2                                                 []    []     []   NaN   \n",
       "3  [{'uri': 'reuters@ndtv.com', 'name': 'Reuters'...    []     []   NaN   \n",
       "4                                                 []    []     []   NaN   \n",
       "\n",
       "     eventUri                                           location  \\\n",
       "0         NaN                                                NaN   \n",
       "1   eng-72983  {'type': 'place', 'label': {'eng': 'Sydney'}, ...   \n",
       "2  eng-147295  {'type': 'place', 'label': {'eng': 'Melbourne'...   \n",
       "3  eng-171480                                                NaN   \n",
       "4  eng-301292  {'type': 'place', 'label': {'eng': 'Balasore'}...   \n",
       "\n",
       "            shares sentiment        wgt  relevance  \n",
       "0  {'facebook': 1} -0.592157  127273140  127273140  \n",
       "1  {'facebook': 2} -0.631373  127378980  127378980  \n",
       "2  {'facebook': 3} -0.647059  129702300  129702300  \n",
       "3               {} -0.584314  130935300  130935300  \n",
       "4  {'facebook': 1} -0.623529  134914140  134914140  \n",
       "\n",
       "[5 rows x 23 columns]"
      ]
     },
     "execution_count": 8,
     "metadata": {},
     "output_type": "execute_result"
    }
   ],
   "source": [
    "import pandas as pd\n",
    "\n",
    "indf = pd.read_excel('in_all.xlsx')\n",
    "\n",
    "indf.head()"
   ]
  },
  {
   "cell_type": "code",
   "execution_count": 9,
   "id": "84ea5feb-432c-4c6a-a210-e694961bff2a",
   "metadata": {},
   "outputs": [
    {
     "data": {
      "text/plain": [
       "2167"
      ]
     },
     "execution_count": 9,
     "metadata": {},
     "output_type": "execute_result"
    }
   ],
   "source": [
    "len(indf)"
   ]
  },
  {
   "cell_type": "code",
   "execution_count": 16,
   "id": "a5150c04-e7f6-4730-bb23-6f77ffda59c9",
   "metadata": {},
   "outputs": [
    {
     "data": {
      "text/plain": [
       "pandas.core.frame.DataFrame"
      ]
     },
     "execution_count": 16,
     "metadata": {},
     "output_type": "execute_result"
    }
   ],
   "source": [
    "type(indf)"
   ]
  },
  {
   "cell_type": "code",
   "execution_count": 17,
   "id": "aaefe210-951b-4108-8ea6-03463d9a06cb",
   "metadata": {},
   "outputs": [
    {
     "data": {
      "text/plain": [
       "0     Sydney: A fast-moving wildfire destroyed at le...\n",
       "1     Sydney: Australian authorities warned on Tuesd...\n",
       "2     Melbourne: At least 20 homes have been razed i...\n",
       "3     Beijing: Natural disasters including droughts,...\n",
       "4     Balasore: Narendra Modi today said the trends ...\n",
       "5     New Delhi: Sweltering heat in Delhi and massiv...\n",
       "6     New Delhi: Sweltering heat in Delhi and massiv...\n",
       "7     New Delhi: Sweltering heat in Delhi and massiv...\n",
       "8     New Delhi: Weather continued to be pleasant in...\n",
       "9     Los Angeles: Raging wildfires damaged or destr...\n",
       "10    Moscow: A foul odour enveloped the Russian cap...\n",
       "Name: body, dtype: object"
      ]
     },
     "execution_count": 17,
     "metadata": {},
     "output_type": "execute_result"
    }
   ],
   "source": [
    "indf.loc[0:10, 'body']"
   ]
  },
  {
   "cell_type": "code",
   "execution_count": 18,
   "id": "81cecb18-3185-45b8-91d4-f4494c3970a1",
   "metadata": {},
   "outputs": [
    {
     "data": {
      "text/html": [
       "<div>\n",
       "<style scoped>\n",
       "    .dataframe tbody tr th:only-of-type {\n",
       "        vertical-align: middle;\n",
       "    }\n",
       "\n",
       "    .dataframe tbody tr th {\n",
       "        vertical-align: top;\n",
       "    }\n",
       "\n",
       "    .dataframe thead th {\n",
       "        text-align: right;\n",
       "    }\n",
       "</style>\n",
       "<table border=\"1\" class=\"dataframe\">\n",
       "  <thead>\n",
       "    <tr style=\"text-align: right;\">\n",
       "      <th></th>\n",
       "      <th>title</th>\n",
       "      <th>body</th>\n",
       "      <th>source</th>\n",
       "    </tr>\n",
       "  </thead>\n",
       "  <tbody>\n",
       "    <tr>\n",
       "      <th>0</th>\n",
       "      <td>Australian wildfire razes 27 homes, one man dead</td>\n",
       "      <td>Sydney: A fast-moving wildfire destroyed at le...</td>\n",
       "      <td>{'uri': 'ndtv.com', 'dataType': 'news', 'title...</td>\n",
       "    </tr>\n",
       "    <tr>\n",
       "      <th>1</th>\n",
       "      <td>Australia braces for fire danger as heatwave hits</td>\n",
       "      <td>Sydney: Australian authorities warned on Tuesd...</td>\n",
       "      <td>{'uri': 'ndtv.com', 'dataType': 'news', 'title...</td>\n",
       "    </tr>\n",
       "    <tr>\n",
       "      <th>2</th>\n",
       "      <td>Australian wildfires destroy at least 20 homes</td>\n",
       "      <td>Melbourne: At least 20 homes have been razed i...</td>\n",
       "      <td>{'uri': 'ndtv.com', 'dataType': 'news', 'title...</td>\n",
       "    </tr>\n",
       "    <tr>\n",
       "      <th>3</th>\n",
       "      <td>Costs of natural disasters in China surge to $...</td>\n",
       "      <td>Beijing: Natural disasters including droughts,...</td>\n",
       "      <td>{'uri': 'ndtv.com', 'dataType': 'news', 'title...</td>\n",
       "    </tr>\n",
       "    <tr>\n",
       "      <th>4</th>\n",
       "      <td>Poll trends suggest my responsibilities are in...</td>\n",
       "      <td>Balasore: Narendra Modi today said the trends ...</td>\n",
       "      <td>{'uri': 'ndtv.com', 'dataType': 'news', 'title...</td>\n",
       "    </tr>\n",
       "    <tr>\n",
       "      <th>5</th>\n",
       "      <td>10-Day Deadline To Fix Delhi's Crisis, Vows Po...</td>\n",
       "      <td>New Delhi: Sweltering heat in Delhi and massiv...</td>\n",
       "      <td>{'uri': 'ndtv.com', 'dataType': 'news', 'title...</td>\n",
       "    </tr>\n",
       "    <tr>\n",
       "      <th>6</th>\n",
       "      <td>10-Day Deadline To Fix Delhi's Crisis, Vows Po...</td>\n",
       "      <td>New Delhi: Sweltering heat in Delhi and massiv...</td>\n",
       "      <td>{'uri': 'ndtv.com', 'dataType': 'news', 'title...</td>\n",
       "    </tr>\n",
       "    <tr>\n",
       "      <th>7</th>\n",
       "      <td>Delhi power crisis: Union Minister Piyush Goya...</td>\n",
       "      <td>New Delhi: Sweltering heat in Delhi and massiv...</td>\n",
       "      <td>{'uri': 'ndtv.com', 'dataType': 'news', 'title...</td>\n",
       "    </tr>\n",
       "    <tr>\n",
       "      <th>8</th>\n",
       "      <td>Delhi: Light Showers Make for Pleasant Day</td>\n",
       "      <td>New Delhi: Weather continued to be pleasant in...</td>\n",
       "      <td>{'uri': 'ndtv.com', 'dataType': 'news', 'title...</td>\n",
       "    </tr>\n",
       "    <tr>\n",
       "      <th>9</th>\n",
       "      <td>California Wildfires Burn Homes, Force Residen...</td>\n",
       "      <td>Los Angeles: Raging wildfires damaged or destr...</td>\n",
       "      <td>{'uri': 'ndtv.com', 'dataType': 'news', 'title...</td>\n",
       "    </tr>\n",
       "  </tbody>\n",
       "</table>\n",
       "</div>"
      ],
      "text/plain": [
       "                                               title  \\\n",
       "0   Australian wildfire razes 27 homes, one man dead   \n",
       "1  Australia braces for fire danger as heatwave hits   \n",
       "2     Australian wildfires destroy at least 20 homes   \n",
       "3  Costs of natural disasters in China surge to $...   \n",
       "4  Poll trends suggest my responsibilities are in...   \n",
       "5  10-Day Deadline To Fix Delhi's Crisis, Vows Po...   \n",
       "6  10-Day Deadline To Fix Delhi's Crisis, Vows Po...   \n",
       "7  Delhi power crisis: Union Minister Piyush Goya...   \n",
       "8         Delhi: Light Showers Make for Pleasant Day   \n",
       "9  California Wildfires Burn Homes, Force Residen...   \n",
       "\n",
       "                                                body  \\\n",
       "0  Sydney: A fast-moving wildfire destroyed at le...   \n",
       "1  Sydney: Australian authorities warned on Tuesd...   \n",
       "2  Melbourne: At least 20 homes have been razed i...   \n",
       "3  Beijing: Natural disasters including droughts,...   \n",
       "4  Balasore: Narendra Modi today said the trends ...   \n",
       "5  New Delhi: Sweltering heat in Delhi and massiv...   \n",
       "6  New Delhi: Sweltering heat in Delhi and massiv...   \n",
       "7  New Delhi: Sweltering heat in Delhi and massiv...   \n",
       "8  New Delhi: Weather continued to be pleasant in...   \n",
       "9  Los Angeles: Raging wildfires damaged or destr...   \n",
       "\n",
       "                                              source  \n",
       "0  {'uri': 'ndtv.com', 'dataType': 'news', 'title...  \n",
       "1  {'uri': 'ndtv.com', 'dataType': 'news', 'title...  \n",
       "2  {'uri': 'ndtv.com', 'dataType': 'news', 'title...  \n",
       "3  {'uri': 'ndtv.com', 'dataType': 'news', 'title...  \n",
       "4  {'uri': 'ndtv.com', 'dataType': 'news', 'title...  \n",
       "5  {'uri': 'ndtv.com', 'dataType': 'news', 'title...  \n",
       "6  {'uri': 'ndtv.com', 'dataType': 'news', 'title...  \n",
       "7  {'uri': 'ndtv.com', 'dataType': 'news', 'title...  \n",
       "8  {'uri': 'ndtv.com', 'dataType': 'news', 'title...  \n",
       "9  {'uri': 'ndtv.com', 'dataType': 'news', 'title...  "
      ]
     },
     "execution_count": 18,
     "metadata": {},
     "output_type": "execute_result"
    }
   ],
   "source": [
    "indf.iloc[0:10,10:13]"
   ]
  },
  {
   "cell_type": "code",
   "execution_count": 21,
   "id": "e040b067-472b-471a-9318-c946a463b9c8",
   "metadata": {},
   "outputs": [
    {
     "data": {
      "text/plain": [
       "0    {'uri': 'ndtv.com', 'dataType': 'news', 'title...\n",
       "1    {'uri': 'ndtv.com', 'dataType': 'news', 'title...\n",
       "2    {'uri': 'ndtv.com', 'dataType': 'news', 'title...\n",
       "3    {'uri': 'ndtv.com', 'dataType': 'news', 'title...\n",
       "4    {'uri': 'ndtv.com', 'dataType': 'news', 'title...\n",
       "5    {'uri': 'ndtv.com', 'dataType': 'news', 'title...\n",
       "Name: source, dtype: object"
      ]
     },
     "execution_count": 21,
     "metadata": {},
     "output_type": "execute_result"
    }
   ],
   "source": [
    "indf.loc[0:5, 'source']"
   ]
  },
  {
   "cell_type": "code",
   "execution_count": 22,
   "id": "78a2d35c-0a85-462e-8454-11fff2b9b20e",
   "metadata": {},
   "outputs": [],
   "source": [
    "\"\"\"\n",
    "Using Abstract Syntax Tree (ast) to extract source name only from 'source' column of the dataframe.\n",
    "\n",
    "\"\"\"\n",
    "\n",
    "import ast\n",
    "\n",
    "# Extract the 'title' part from the 'source' column\n",
    "indf['source'] = indf['source'].apply(lambda x: ast.literal_eval(x)['title'])"
   ]
  },
  {
   "cell_type": "code",
   "execution_count": 27,
   "id": "c86689d3-3358-4a2a-a6c2-89fee2efe2c6",
   "metadata": {},
   "outputs": [
    {
     "data": {
      "text/plain": [
       "0                     NDTV\n",
       "1                     NDTV\n",
       "2                     NDTV\n",
       "3                     NDTV\n",
       "4                     NDTV\n",
       "               ...        \n",
       "2162                  NDTV\n",
       "2163    The Times of India\n",
       "2164             India.com\n",
       "2165                  NDTV\n",
       "2166                  NDTV\n",
       "Name: source, Length: 2167, dtype: object"
      ]
     },
     "execution_count": 27,
     "metadata": {},
     "output_type": "execute_result"
    }
   ],
   "source": [
    "indf['source']"
   ]
  },
  {
   "cell_type": "code",
   "execution_count": 30,
   "id": "70f905ee-3ff9-4d8b-b9d9-a4cce364bcd7",
   "metadata": {},
   "outputs": [
    {
     "name": "stdout",
     "output_type": "stream",
     "text": [
      "['NDTV' 'The Times of India' 'DD News' 'News18 India' 'आज तक' 'India.com']\n",
      "source\n",
      "The Times of India    1690\n",
      "NDTV                   397\n",
      "आज तक                   44\n",
      "News18 India            20\n",
      "DD News                 15\n",
      "India.com                1\n",
      "Name: count, dtype: int64\n"
     ]
    }
   ],
   "source": [
    "print(indf['source'].unique())\n",
    "\n",
    "print(indf['source'].value_counts())"
   ]
  },
  {
   "cell_type": "code",
   "execution_count": 31,
   "id": "da08297a-9e86-42b3-9843-c338029cc48b",
   "metadata": {},
   "outputs": [
    {
     "data": {
      "text/plain": [
       "0       2014-01-13\n",
       "1       2014-01-14\n",
       "2       2014-02-10\n",
       "3       2014-02-24\n",
       "4       2014-04-11\n",
       "           ...    \n",
       "2162    2022-12-26\n",
       "2163    2022-12-26\n",
       "2164    2022-12-27\n",
       "2165    2022-12-27\n",
       "2166    2022-12-29\n",
       "Name: date, Length: 2167, dtype: object"
      ]
     },
     "execution_count": 31,
     "metadata": {},
     "output_type": "execute_result"
    }
   ],
   "source": [
    "indf['date']"
   ]
  },
  {
   "cell_type": "code",
   "execution_count": 32,
   "id": "d3faa53a-5e90-4d39-bc72-55519de06c8a",
   "metadata": {},
   "outputs": [
    {
     "data": {
      "text/plain": [
       "0        Australian wildfire razes 27 homes, one man dead\n",
       "1       Australia braces for fire danger as heatwave hits\n",
       "2          Australian wildfires destroy at least 20 homes\n",
       "3       Costs of natural disasters in China surge to $...\n",
       "4       Poll trends suggest my responsibilities are in...\n",
       "                              ...                        \n",
       "2162    Mother Dairy To Hike Milk Prices by Rs 2 Per L...\n",
       "2163    Mother Dairy to hike milk prices by Rs 2/litre...\n",
       "2164    Why Mother Dairy Has Hiked Its Milk Prices In ...\n",
       "2165    Signs Of Apocalypse? 2022 Saw Floods, Heatwave...\n",
       "2166                In Pics: Biggest World Events Of 2022\n",
       "Name: title, Length: 2167, dtype: object"
      ]
     },
     "execution_count": 32,
     "metadata": {},
     "output_type": "execute_result"
    }
   ],
   "source": [
    "indf['title']"
   ]
  },
  {
   "cell_type": "code",
   "execution_count": 33,
   "id": "1d7c0444-0f26-4846-865d-a6e6fd413ae9",
   "metadata": {},
   "outputs": [
    {
     "data": {
      "text/plain": [
       "0       Sydney: A fast-moving wildfire destroyed at le...\n",
       "1       Sydney: Australian authorities warned on Tuesd...\n",
       "2       Melbourne: At least 20 homes have been razed i...\n",
       "3       Beijing: Natural disasters including droughts,...\n",
       "4       Balasore: Narendra Modi today said the trends ...\n",
       "                              ...                        \n",
       "2162    Mother Dairy to hike milk prices by Rs 2/litre...\n",
       "2163    NEW DELHI: Citing rise in input costs, the Mot...\n",
       "2164    New Delhi: Mother Diary has once again hiked i...\n",
       "2165    And on the year that humanity welcomed its eig...\n",
       "2166    Ukraine has put up a spirited resistance to th...\n",
       "Name: body, Length: 2167, dtype: object"
      ]
     },
     "execution_count": 33,
     "metadata": {},
     "output_type": "execute_result"
    }
   ],
   "source": [
    "indf['body']"
   ]
  },
  {
   "cell_type": "markdown",
   "id": "a83ee04a-4f13-4939-b9e2-23519fee10a5",
   "metadata": {},
   "source": [
    "#### Preparing input data for BERTopic"
   ]
  },
  {
   "cell_type": "code",
   "execution_count": 34,
   "id": "3c5f3dd0-e6ea-4be8-9271-f694ccf78219",
   "metadata": {},
   "outputs": [],
   "source": [
    "intitle=indf['title']\n",
    "inbody=indf['body']\n",
    "indate=indf['date']\n",
    "insource=indf['source']"
   ]
  },
  {
   "cell_type": "code",
   "execution_count": 70,
   "id": "9bf9b313-0415-49fd-b8c2-5f0cee8db7cf",
   "metadata": {},
   "outputs": [],
   "source": [
    "# saving the file as excel file for later use\n",
    "\n",
    "in_input_data = pd.DataFrame({'title':indf['title'],\n",
    "                              'body':indf['body'],\n",
    "                              'date':indf['date'],\n",
    "                              'source':indf['source']})\n",
    "\n",
    "in_input_data.to_excel('in_input_data.xlsx', index=False)"
   ]
  },
  {
   "cell_type": "code",
   "execution_count": 40,
   "id": "d2f686c6-3404-40a2-b9b0-f670da58bac6",
   "metadata": {},
   "outputs": [
    {
     "name": "stderr",
     "output_type": "stream",
     "text": [
      "[nltk_data] Downloading package stopwords to\n",
      "[nltk_data]     C:\\Users\\mb1110\\AppData\\Roaming\\nltk_data...\n",
      "[nltk_data]   Package stopwords is already up-to-date!\n"
     ]
    },
    {
     "data": {
      "text/plain": [
       "True"
      ]
     },
     "execution_count": 40,
     "metadata": {},
     "output_type": "execute_result"
    }
   ],
   "source": [
    "\"\"\" \n",
    "Downloading stopwords from nltk.\n",
    "nltk==3.8.1\n",
    "\n",
    "\"\"\"\n",
    "\n",
    "import nltk\n",
    "from nltk.corpus import stopwords\n",
    "nltk.download('stopwords')"
   ]
  },
  {
   "cell_type": "code",
   "execution_count": 41,
   "id": "d43a3faa-6d8e-453f-a47b-37e2f69d0b3d",
   "metadata": {},
   "outputs": [
    {
     "name": "stdout",
     "output_type": "stream",
     "text": [
      "['arabic', 'azerbaijani', 'basque', 'bengali', 'catalan', 'chinese', 'danish', 'dutch', 'english', 'finnish', 'french', 'german', 'greek', 'hebrew', 'hinglish', 'hungarian', 'indonesian', 'italian', 'kazakh', 'nepali', 'norwegian', 'portuguese', 'romanian', 'russian', 'slovene', 'spanish', 'swedish', 'tajik', 'turkish']\n"
     ]
    }
   ],
   "source": [
    "print(stopwords.fileids())"
   ]
  },
  {
   "cell_type": "code",
   "execution_count": 54,
   "id": "463faf9a-dab2-4d53-8581-e9dbf61d0b27",
   "metadata": {
    "scrolled": true
   },
   "outputs": [
    {
     "name": "stdout",
     "output_type": "stream",
     "text": [
      "['a', 'aadi', 'aaj', 'aap', 'aapne', 'aata', 'aati', 'aaya', 'aaye', 'ab', 'abbe', 'abbey', 'abe', 'abhi', 'able', 'about', 'above', 'accha', 'according', 'accordingly', 'acha', 'achcha', 'across', 'actually', 'after', 'afterwards', 'again', 'against', 'agar', 'ain', 'aint', \"ain't\", 'aisa', 'aise', 'aisi', 'alag', 'all', 'allow', 'allows', 'almost', 'alone', 'along', 'already', 'also', 'although', 'always', 'am', 'among', 'amongst', 'an', 'and', 'andar', 'another', 'any', 'anybody', 'anyhow', 'anyone', 'anything', 'anyway', 'anyways', 'anywhere', 'ap', 'apan', 'apart', 'apna', 'apnaa', 'apne', 'apni', 'appear', 'are', 'aren', 'arent', \"aren't\", 'around', 'arre', 'as', 'aside', 'ask', 'asking', 'at', 'aur', 'avum', 'aya', 'aye', 'baad', 'baar', 'bad', 'bahut', 'bana', 'banae', 'banai', 'banao', 'banaya', 'banaye', 'banayi', 'banda', 'bande', 'bandi', 'bane', 'bani', 'bas', 'bata', 'batao', 'bc', 'be', 'became', 'because', 'become', 'becomes', 'becoming', 'been', 'before', 'beforehand', 'behind', 'being', 'below', 'beside', 'besides', 'best', 'better', 'between', 'beyond', 'bhai', 'bheetar', 'bhi', 'bhitar', 'bht', 'bilkul', 'bohot', 'bol', 'bola', 'bole', 'boli', 'bolo', 'bolta', 'bolte', 'bolti', 'both', 'brief', 'bro', 'btw', 'but', 'by', 'came', 'can', 'cannot', 'cant', \"can't\", 'cause', 'causes', 'certain', 'certainly', 'chahiye', 'chaiye', 'chal', 'chalega', 'chhaiye', 'clearly', \"c'mon\", 'com', 'come', 'comes', 'could', 'couldn', 'couldnt', \"couldn't\", 'd', 'de', 'dede', 'dega', 'degi', 'dekh', 'dekha', 'dekhe', 'dekhi', 'dekho', 'denge', 'dhang', 'di', 'did', 'didn', 'didnt', \"didn't\", 'dijiye', 'diya', 'diyaa', 'diye', 'diyo', 'do', 'does', 'doesn', 'doesnt', \"doesn't\", 'doing', 'done', 'dono', 'dont', \"don't\", 'doosra', 'doosre', 'down', 'downwards', 'dude', 'dunga', 'dungi', 'during', 'dusra', 'dusre', 'dusri', 'dvaara', 'dvara', 'dwaara', 'dwara', 'each', 'edu', 'eg', 'eight', 'either', 'ek', 'else', 'elsewhere', 'enough', 'etc', 'even', 'ever', 'every', 'everybody', 'everyone', 'everything', 'everywhere', 'ex', 'exactly', 'example', 'except', 'far', 'few', 'fifth', 'fir', 'first', 'five', 'followed', 'following', 'follows', 'for', 'forth', 'four', 'from', 'further', 'furthermore', 'gaya', 'gaye', 'gayi', 'get', 'gets', 'getting', 'ghar', 'given', 'gives', 'go', 'goes', 'going', 'gone', 'good', 'got', 'gotten', 'greetings', 'haan', 'had', 'hadd', 'hadn', 'hadnt', \"hadn't\", 'hai', 'hain', 'hamara', 'hamare', 'hamari', 'hamne', 'han', 'happens', 'har', 'hardly', 'has', 'hasn', 'hasnt', \"hasn't\", 'have', 'haven', 'havent', \"haven't\", 'having', 'he', 'hello', 'help', 'hence', 'her', 'here', 'hereafter', 'hereby', 'herein', \"here's\", 'hereupon', 'hers', 'herself', \"he's\", 'hi', 'him', 'himself', 'his', 'hither', 'hm', 'hmm', 'ho', 'hoga', 'hoge', 'hogi', 'hona', 'honaa', 'hone', 'honge', 'hongi', 'honi', 'hopefully', 'hota', 'hotaa', 'hote', 'hoti', 'how', 'howbeit', 'however', 'hoyenge', 'hoyengi', 'hu', 'hua', 'hue', 'huh', 'hui', 'hum', 'humein', 'humne', 'hun', 'huye', 'huyi', 'i', \"i'd\", 'idk', 'ie', 'if', \"i'll\", \"i'm\", 'imo', 'in', 'inasmuch', 'inc', 'inhe', 'inhi', 'inho', 'inka', 'inkaa', 'inke', 'inki', 'inn', 'inner', 'inse', 'insofar', 'into', 'inward', 'is', 'ise', 'isi', 'iska', 'iskaa', 'iske', 'iski', 'isme', 'isn', 'isne', 'isnt', \"isn't\", 'iss', 'isse', 'issi', 'isski', 'it', \"it'd\", \"it'll\", 'itna', 'itne', 'itni', 'itno', 'its', \"it's\", 'itself', 'ityaadi', 'ityadi', \"i've\", 'ja', 'jaa', 'jab', 'jabh', 'jaha', 'jahaan', 'jahan', 'jaisa', 'jaise', 'jaisi', 'jata', 'jayega', 'jidhar', 'jin', 'jinhe', 'jinhi', 'jinho', 'jinhone', 'jinka', 'jinke', 'jinki', 'jinn', 'jis', 'jise', 'jiska', 'jiske', 'jiski', 'jisme', 'jiss', 'jisse', 'jitna', 'jitne', 'jitni', 'jo', 'just', 'jyaada', 'jyada', 'k', 'ka', 'kaafi', 'kab', 'kabhi', 'kafi', 'kaha', 'kahaa', 'kahaan', 'kahan', 'kahi', 'kahin', 'kahte', 'kaisa', 'kaise', 'kaisi', 'kal', 'kam', 'kar', 'kara', 'kare', 'karega', 'karegi', 'karen', 'karenge', 'kari', 'karke', 'karna', 'karne', 'karni', 'karo', 'karta', 'karte', 'karti', 'karu', 'karun', 'karunga', 'karungi', 'kaun', 'kaunsa', 'kayi', 'kch', 'ke', 'keep', 'keeps', 'keh', 'kehte', 'kept', 'khud', 'ki', 'kin', 'kine', 'kinhe', 'kinho', 'kinka', 'kinke', 'kinki', 'kinko', 'kinn', 'kino', 'kis', 'kise', 'kisi', 'kiska', 'kiske', 'kiski', 'kisko', 'kisliye', 'kisne', 'kitna', 'kitne', 'kitni', 'kitno', 'kiya', 'kiye', 'know', 'known', 'knows', 'ko', 'koi', 'kon', 'konsa', 'koyi', 'krna', 'krne', 'kuch', 'kuchch', 'kuchh', 'kul', 'kull', 'kya', 'kyaa', 'kyu', 'kyuki', 'kyun', 'kyunki', 'lagta', 'lagte', 'lagti', 'last', 'lately', 'later', 'le', 'least', 'lekar', 'lekin', 'less', 'lest', 'let', \"let's\", 'li', 'like', 'liked', 'likely', 'little', 'liya', 'liye', 'll', 'lo', 'log', 'logon', 'lol', 'look', 'looking', 'looks', 'ltd', 'lunga', 'm', 'maan', 'maana', 'maane', 'maani', 'maano', 'magar', 'mai', 'main', 'maine', 'mainly', 'mana', 'mane', 'mani', 'mano', 'many', 'mat', 'may', 'maybe', 'me', 'mean', 'meanwhile', 'mein', 'mera', 'mere', 'merely', 'meri', 'might', 'mightn', 'mightnt', \"mightn't\", 'mil', 'mjhe', 'more', 'moreover', 'most', 'mostly', 'much', 'mujhe', 'must', 'mustn', 'mustnt', \"mustn't\", 'my', 'myself', 'na', 'naa', 'naah', 'nahi', 'nahin', 'nai', 'name', 'namely', 'nd', 'ne', 'near', 'nearly', 'necessary', 'neeche', 'need', 'needn', 'neednt', \"needn't\", 'needs', 'neither', 'never', 'nevertheless', 'new', 'next', 'nhi', 'nine', 'no', 'nobody', 'non', 'none', 'noone', 'nope', 'nor', 'normally', 'not', 'nothing', 'novel', 'now', 'nowhere', 'o', 'obviously', 'of', 'off', 'often', 'oh', 'ok', 'okay', 'old', 'on', 'once', 'one', 'ones', 'only', 'onto', 'or', 'other', 'others', 'otherwise', 'ought', 'our', 'ours', 'ourselves', 'out', 'outside', 'over', 'overall', 'own', 'par', 'pata', 'pe', 'pehla', 'pehle', 'pehli', 'people', 'per', 'perhaps', 'phla', 'phle', 'phli', 'placed', 'please', 'plus', 'poora', 'poori', 'provides', 'pura', 'puri', 'q', 'que', 'quite', 'raha', 'rahaa', 'rahe', 'rahi', 'rakh', 'rakha', 'rakhe', 'rakhen', 'rakhi', 'rakho', 'rather', 're', 'really', 'reasonably', 'regarding', 'regardless', 'regards', 'rehte', 'rha', 'rhaa', 'rhe', 'rhi', 'ri', 'right', 's', 'sa', 'saara', 'saare', 'saath', 'sab', 'sabhi', 'sabse', 'sahi', 'said', 'sakta', 'saktaa', 'sakte', 'sakti', 'same', 'sang', 'sara', 'sath', 'saw', 'say', 'saying', 'says', 'se', 'second', 'secondly', 'see', 'seeing', 'seem', 'seemed', 'seeming', 'seems', 'seen', 'self', 'selves', 'sensible', 'sent', 'serious', 'seriously', 'seven', 'several', 'shall', 'shan', 'shant', \"shan't\", 'she', \"she's\", 'should', 'shouldn', 'shouldnt', \"shouldn't\", \"should've\", 'si', 'since', 'six', 'so', 'soch', 'some', 'somebody', 'somehow', 'someone', 'something', 'sometime', 'sometimes', 'somewhat', 'somewhere', 'soon', 'still', 'sub', 'such', 'sup', 'sure', 't', 'tab', 'tabh', 'tak', 'take', 'taken', 'tarah', 'teen', 'teeno', 'teesra', 'teesre', 'teesri', 'tell', 'tends', 'tera', 'tere', 'teri', 'th', 'tha', 'than', 'thank', 'thanks', 'thanx', 'that', \"that'll\", 'thats', \"that's\", 'the', 'theek', 'their', 'theirs', 'them', 'themselves', 'then', 'thence', 'there', 'thereafter', 'thereby', 'therefore', 'therein', 'theres', \"there's\", 'thereupon', 'these', 'they', \"they'd\", \"they'll\", \"they're\", \"they've\", 'thi', 'thik', 'thing', 'think', 'thinking', 'third', 'this', 'tho', 'thoda', 'thodi', 'thorough', 'thoroughly', 'those', 'though', 'thought', 'three', 'through', 'throughout', 'thru', 'thus', 'tjhe', 'to', 'together', 'toh', 'too', 'took', 'toward', 'towards', 'tried', 'tries', 'true', 'truly', 'try', 'trying', 'tu', 'tujhe', 'tum', 'tumhara', 'tumhare', 'tumhari', 'tune', 'twice', 'two', 'um', 'umm', 'un', 'under', 'unhe', 'unhi', 'unho', 'unhone', 'unka', 'unkaa', 'unke', 'unki', 'unko', 'unless', 'unlikely', 'unn', 'unse', 'until', 'unto', 'up', 'upar', 'upon', 'us', 'use', 'used', 'useful', 'uses', 'usi', 'using', 'uska', 'uske', 'usne', 'uss', 'usse', 'ussi', 'usually', 'vaala', 'vaale', 'vaali', 'vahaan', 'vahan', 'vahi', 'vahin', 'vaisa', 'vaise', 'vaisi', 'vala', 'vale', 'vali', 'various', 've', 'very', 'via', 'viz', 'vo', 'waala', 'waale', 'waali', 'wagaira', 'wagairah', 'wagerah', 'waha', 'wahaan', 'wahan', 'wahi', 'wahin', 'waisa', 'waise', 'waisi', 'wala', 'wale', 'wali', 'want', 'wants', 'was', 'wasn', 'wasnt', \"wasn't\", 'way', 'we', \"we'd\", 'well', \"we'll\", 'went', 'were', \"we're\", 'weren', 'werent', \"weren't\", \"we've\", 'what', 'whatever', \"what's\", 'when', 'whence', 'whenever', 'where', 'whereafter', 'whereas', 'whereby', 'wherein', \"where's\", 'whereupon', 'wherever', 'whether', 'which', 'while', 'who', 'whoever', 'whole', 'whom', \"who's\", 'whose', 'why', 'will', 'willing', 'with', 'within', 'without', 'wo', 'woh', 'wohi', 'won', 'wont', \"won't\", 'would', 'wouldn', 'wouldnt', \"wouldn't\", 'y', 'ya', 'yadi', 'yah', 'yaha', 'yahaan', 'yahan', 'yahi', 'yahin', 'ye', 'yeah', 'yeh', 'yehi', 'yes', 'yet', 'you', \"you'd\", \"you'll\", 'your', \"you're\", 'yours', 'yourself', 'yourselves', \"you've\", 'yup']\n"
     ]
    }
   ],
   "source": [
    "print(stopwords.words('hinglish'))"
   ]
  },
  {
   "cell_type": "code",
   "execution_count": 45,
   "id": "5ed9c2ea-258e-4411-8587-9c0e72d10a9e",
   "metadata": {},
   "outputs": [
    {
     "name": "stdout",
     "output_type": "stream",
     "text": [
      "['i', 'me', 'my', 'myself', 'we', 'our', 'ours', 'ourselves', 'you', \"you're\", \"you've\", \"you'll\", \"you'd\", 'your', 'yours', 'yourself', 'yourselves', 'he', 'him', 'his', 'himself', 'she', \"she's\", 'her', 'hers', 'herself', 'it', \"it's\", 'its', 'itself', 'they', 'them', 'their', 'theirs', 'themselves', 'what', 'which', 'who', 'whom', 'this', 'that', \"that'll\", 'these', 'those', 'am', 'is', 'are', 'was', 'were', 'be', 'been', 'being', 'have', 'has', 'had', 'having', 'do', 'does', 'did', 'doing', 'a', 'an', 'the', 'and', 'but', 'if', 'or', 'because', 'as', 'until', 'while', 'of', 'at', 'by', 'for', 'with', 'about', 'against', 'between', 'into', 'through', 'during', 'before', 'after', 'above', 'below', 'to', 'from', 'up', 'down', 'in', 'out', 'on', 'off', 'over', 'under', 'again', 'further', 'then', 'once', 'here', 'there', 'when', 'where', 'why', 'how', 'all', 'any', 'both', 'each', 'few', 'more', 'most', 'other', 'some', 'such', 'no', 'nor', 'not', 'only', 'own', 'same', 'so', 'than', 'too', 'very', 's', 't', 'can', 'will', 'just', 'don', \"don't\", 'should', \"should've\", 'now', 'd', 'll', 'm', 'o', 're', 've', 'y', 'ain', 'aren', \"aren't\", 'couldn', \"couldn't\", 'didn', \"didn't\", 'doesn', \"doesn't\", 'hadn', \"hadn't\", 'hasn', \"hasn't\", 'haven', \"haven't\", 'isn', \"isn't\", 'ma', 'mightn', \"mightn't\", 'mustn', \"mustn't\", 'needn', \"needn't\", 'shan', \"shan't\", 'shouldn', \"shouldn't\", 'wasn', \"wasn't\", 'weren', \"weren't\", 'won', \"won't\", 'wouldn', \"wouldn't\"]\n"
     ]
    }
   ],
   "source": [
    "print(stopwords.words('English'))"
   ]
  },
  {
   "cell_type": "markdown",
   "id": "1d099dce-959a-4a14-91c8-a7bfa747784d",
   "metadata": {},
   "source": [
    "#### Creating Hinglish and English stopwords list"
   ]
  },
  {
   "cell_type": "code",
   "execution_count": 49,
   "id": "27d3057f-02e3-4300-b65f-fb1eb0ce3d26",
   "metadata": {},
   "outputs": [
    {
     "data": {
      "text/plain": [
       "1038"
      ]
     },
     "execution_count": 49,
     "metadata": {},
     "output_type": "execute_result"
    }
   ],
   "source": [
    "en_stopwords=set(stopwords.words('english'))\n",
    "in_stopwords=set(stopwords.words('hinglish'))\n",
    "\n",
    "stop_words=list(en_stopwords.union(in_stopwords)) # union so that duplicate removed\n",
    "len(stop_words)"
   ]
  },
  {
   "cell_type": "code",
   "execution_count": 55,
   "id": "7f6ca5c8-cdc0-4561-ba7f-e50064a446ec",
   "metadata": {
    "scrolled": true
   },
   "outputs": [
    {
     "data": {
      "text/plain": [
       "list"
      ]
     },
     "execution_count": 55,
     "metadata": {},
     "output_type": "execute_result"
    }
   ],
   "source": [
    "type(stop_words)"
   ]
  },
  {
   "cell_type": "code",
   "execution_count": 71,
   "id": "4007a2d0-2a80-497d-8cbd-913c2c0b06d3",
   "metadata": {},
   "outputs": [],
   "source": [
    "# saving stopwords as txt file for later use\n",
    "\n",
    "with open('in_stop_words.txt','w') as f:\n",
    "    for word in stop_words:\n",
    "        f.write(f\"{word}\\n\")\n",
    "\n",
    "\n",
    "# to load txt file\n",
    "#with open('stop_words.txt', 'r') as f:\n",
    "    #stop_words = [line.strip() for line in f.readlines()]\n",
    "#print(stop_words)"
   ]
  },
  {
   "cell_type": "code",
   "execution_count": 56,
   "id": "2a97885b-0762-4292-a9a2-21b806c4f1bf",
   "metadata": {},
   "outputs": [
    {
     "name": "stdout",
     "output_type": "stream",
     "text": [
      "Common stopwords: [\"you'll\", 'is', \"needn't\", 'this', \"shan't\", 'what', 'myself', 'itself', 'do', 'the', 'why', 'now', 'been', 'very', 'because', 'while', \"wouldn't\", 'with', 'these', 'in', 'haven', 'was', 'ours', 'most', \"shouldn't\", 'against', 'themselves', 'being', 'about', 'him', 'an', 'has', 'for', 'but', 'how', 'few', 'm', 'nor', 'those', 'by', 'here', \"hadn't\", 'weren', 'any', 'between', 'when', 'down', 'under', 'and', 'be', 'as', 'during', 'whom', 'ourselves', 'then', \"isn't\", \"mustn't\", 'we', 'no', 'into', 'his', 'my', 'off', 'she', 'which', 'had', 'same', 'that', 'some', 'shouldn', \"you've\", \"didn't\", \"she's\", 'or', 'other', 'not', 'own', 'so', \"won't\", 'both', 'mightn', 'yourself', 'our', \"that'll\", 'will', 'shan', 'all', 'have', 'needn', 'himself', 'who', 'hasn', 'if', 'can', 'over', 'isn', 'to', 'won', 'he', 'it', 'yourselves', 'you', 'am', 'until', 'should', 'did', \"aren't\", 'hers', \"don't\", 'their', 'from', 'up', 'y', 'again', 'than', 'i', \"should've\", 'more', 'does', 'just', 'didn', \"wasn't\", 'of', 've', 'hadn', 'where', 'such', 't', 'below', 'yours', 'doesn', \"you'd\", 'out', 're', 'doing', 'wouldn', 'each', 'its', 'before', 'only', 'are', \"couldn't\", 'wasn', \"haven't\", 'at', 's', 'll', 'having', 'ain', 'above', 'd', \"mightn't\", 'through', 'them', 'mustn', \"hasn't\", \"you're\", \"doesn't\", 'her', 'herself', 'on', \"weren't\", 'aren', 'theirs', 'your', 'too', 'after', 'were', 'o', 'me', 'couldn', 'there', 'they', \"it's\", 'once', 'a', 'further']\n"
     ]
    },
    {
     "data": {
      "text/plain": [
       "177"
      ]
     },
     "execution_count": 56,
     "metadata": {},
     "output_type": "execute_result"
    }
   ],
   "source": [
    "# checking common stopwords\n",
    "\n",
    "common_stopwords = en_stopwords.intersection(in_stopwords)\n",
    "\n",
    "common_stopwords = list(common_stopwords)\n",
    "\n",
    "# Print or use the common stopwords\n",
    "print(\"Common stopwords:\", common_stopwords)\n",
    "len(common_stopwords)"
   ]
  },
  {
   "cell_type": "markdown",
   "id": "a12bbac5-95ba-49e2-8a99-b41a23bbaa95",
   "metadata": {},
   "source": [
    "#### Specifying tokenizer"
   ]
  },
  {
   "cell_type": "code",
   "execution_count": 57,
   "id": "3d76c5ec-3311-474e-9c54-82d6eeb99947",
   "metadata": {},
   "outputs": [
    {
     "name": "stderr",
     "output_type": "stream",
     "text": [
      "[nltk_data] Downloading package punkt to\n",
      "[nltk_data]     C:\\Users\\mb1110\\AppData\\Roaming\\nltk_data...\n",
      "[nltk_data]   Package punkt is already up-to-date!\n"
     ]
    }
   ],
   "source": [
    "\"\"\"\n",
    "requirement: nltk==3.8.1\n",
    "\n",
    "\"\"\"\n",
    "nltk.download('punkt')\n",
    "\n",
    "# Tokenize Hindi text\n",
    "from nltk.tokenize import word_tokenize\n",
    "\n",
    "tokenizer=word_tokenize"
   ]
  },
  {
   "cell_type": "code",
   "execution_count": 58,
   "id": "ec181c55-6c64-436d-9680-7160c29c65e7",
   "metadata": {},
   "outputs": [
    {
     "data": {
      "text/plain": [
       "['हाय',\n",
       " 'गर्मी',\n",
       " '!',\n",
       " '!',\n",
       " '!',\n",
       " 'रोटी',\n",
       " ',',\n",
       " 'नौकरी',\n",
       " 'और',\n",
       " 'मकान',\n",
       " ',',\n",
       " 'सब',\n",
       " 'छीन',\n",
       " 'लेगा',\n",
       " 'बढ़ता',\n",
       " 'हुआ',\n",
       " 'तापमान']"
      ]
     },
     "execution_count": 58,
     "metadata": {},
     "output_type": "execute_result"
    }
   ],
   "source": [
    "test_sentence = \"हाय गर्मी!!! रोटी, नौकरी और मकान, सब छीन लेगा बढ़ता हुआ तापमान\"\n",
    "\n",
    "tokenizer(test_sentence)"
   ]
  },
  {
   "cell_type": "markdown",
   "id": "d0909930-b1dc-407c-8431-864a97056ab9",
   "metadata": {},
   "source": [
    "#### Specifying custom representation model.\n",
    "Maximal Marginal Relevance to improve the diversity and whilst maintaining coherence of representative words. "
   ]
  },
  {
   "cell_type": "code",
   "execution_count": 61,
   "id": "f348f492-381a-420a-ac7f-4b2158819431",
   "metadata": {},
   "outputs": [],
   "source": [
    "from bertopic.representation import MaximalMarginalRelevance\n",
    "from bertopic import BERTopic\n",
    "\n",
    "# Create your representation model\n",
    "representation_model = MaximalMarginalRelevance(diversity=0.3)"
   ]
  },
  {
   "cell_type": "markdown",
   "id": "bbb8afc9-12f8-4618-96c2-a8befb65005f",
   "metadata": {},
   "source": [
    "#### Performing topic modeling using BERTopic"
   ]
  },
  {
   "cell_type": "code",
   "execution_count": 62,
   "id": "aa451683-6ebb-4e3a-a9ce-fb9c4db54b2a",
   "metadata": {},
   "outputs": [],
   "source": [
    "from umap import UMAP\n",
    "from hdbscan import HDBSCAN\n",
    "from sentence_transformers import SentenceTransformer\n",
    "from sklearn.feature_extraction.text import CountVectorizer\n",
    "\n",
    "from bertopic import BERTopic\n",
    "from bertopic.vectorizers import ClassTfidfTransformer"
   ]
  },
  {
   "cell_type": "code",
   "execution_count": 78,
   "id": "ea204f9e-768d-4ac9-b69f-e6d72f243a56",
   "metadata": {},
   "outputs": [
    {
     "name": "stderr",
     "output_type": "stream",
     "text": [
      "2024-10-16 14:11:39,892 - BERTopic - Embedding - Transforming documents to embeddings.\n"
     ]
    },
    {
     "data": {
      "application/vnd.jupyter.widget-view+json": {
       "model_id": "85c373f61d7049b99f829499a7a9cfdd",
       "version_major": 2,
       "version_minor": 0
      },
      "text/plain": [
       "Batches:   0%|          | 0/68 [00:00<?, ?it/s]"
      ]
     },
     "metadata": {},
     "output_type": "display_data"
    },
    {
     "name": "stderr",
     "output_type": "stream",
     "text": [
      "2024-10-16 14:13:47,491 - BERTopic - Embedding - Completed ✓\n",
      "2024-10-16 14:13:47,492 - BERTopic - Dimensionality - Fitting the dimensionality reduction algorithm\n",
      "2024-10-16 14:13:59,515 - BERTopic - Dimensionality - Completed ✓\n",
      "2024-10-16 14:13:59,516 - BERTopic - Cluster - Start clustering the reduced embeddings\n",
      "2024-10-16 14:14:00,158 - BERTopic - Cluster - Completed ✓\n",
      "2024-10-16 14:14:00,165 - BERTopic - Representation - Extracting topics from clusters using representation models.\n",
      "2024-10-16 14:14:13,643 - BERTopic - Representation - Completed ✓\n"
     ]
    }
   ],
   "source": [
    "# hyperparameters all set to default\n",
    "\n",
    "# Step 1 - Extract embeddings\n",
    "embedding_model = SentenceTransformer(\"sentence-transformers/paraphrase-multilingual-MiniLM-L12-v2\")\n",
    "#('sentence-transformers/LaBSE')\n",
    "\n",
    "# Step 2 - Reduce dimensionality\n",
    "umap_model = UMAP(n_neighbors=15, n_components=5, min_dist=0.0, metric='cosine', random_state=42)\n",
    "\n",
    "# Step 3 - Cluster reduced embeddings\n",
    "hdbscan_model = HDBSCAN(min_cluster_size=10, metric='euclidean', cluster_selection_method='eom', prediction_data=True)\n",
    "\n",
    "# Step 4 - Tokenize topics\n",
    "vectorizer_model = CountVectorizer(tokenizer=word_tokenize,stop_words=stop_words, ngram_range=(1,1))\n",
    "\n",
    "# Step 5 - Create topic representation\n",
    "ctfidf_model = ClassTfidfTransformer()\n",
    "\n",
    "\n",
    "topic_inmodel = BERTopic(representation_model=representation_model,\n",
    "    language='multilingual', \n",
    "    top_n_words=10,\n",
    "    n_gram_range=(1, 1),\n",
    "    min_topic_size=10,\n",
    "    nr_topics= None,\n",
    "    low_memory=False,\n",
    "    calculate_probabilities=True, # The probabilities of all topics per document.\n",
    "    seed_topic_list=None, \n",
    "    embedding_model=embedding_model,\n",
    "    umap_model=umap_model,\n",
    "    hdbscan_model=hdbscan_model,\n",
    "    vectorizer_model=vectorizer_model,\n",
    "    ctfidf_model=ctfidf_model,\n",
    "    verbose=True\n",
    ")\n",
    "\n",
    "topics, probs = topic_inmodel.fit_transform(inbody) # Fit the model and predict documents.a"
   ]
  },
  {
   "cell_type": "code",
   "execution_count": 79,
   "id": "1e0bfe61-4893-4d9d-a435-418b3afc31ee",
   "metadata": {
    "scrolled": true
   },
   "outputs": [
    {
     "data": {
      "text/html": [
       "<div>\n",
       "<style scoped>\n",
       "    .dataframe tbody tr th:only-of-type {\n",
       "        vertical-align: middle;\n",
       "    }\n",
       "\n",
       "    .dataframe tbody tr th {\n",
       "        vertical-align: top;\n",
       "    }\n",
       "\n",
       "    .dataframe thead th {\n",
       "        text-align: right;\n",
       "    }\n",
       "</style>\n",
       "<table border=\"1\" class=\"dataframe\">\n",
       "  <thead>\n",
       "    <tr style=\"text-align: right;\">\n",
       "      <th></th>\n",
       "      <th>Topic</th>\n",
       "      <th>Count</th>\n",
       "      <th>Name</th>\n",
       "      <th>Representation</th>\n",
       "      <th>Representative_Docs</th>\n",
       "    </tr>\n",
       "  </thead>\n",
       "  <tbody>\n",
       "    <tr>\n",
       "      <th>0</th>\n",
       "      <td>-1</td>\n",
       "      <td>571</td>\n",
       "      <td>-1_degrees_temperature_heatwave_heat</td>\n",
       "      <td>[degrees, temperature, heatwave, heat, climate...</td>\n",
       "      <td>[NEW DELHI: Parts of Delhi sweltered under a s...</td>\n",
       "    </tr>\n",
       "    <tr>\n",
       "      <th>1</th>\n",
       "      <td>0</td>\n",
       "      <td>118</td>\n",
       "      <td>0_degrees_delhi_maximum_temperature</td>\n",
       "      <td>[degrees, delhi, maximum, temperature, heatwav...</td>\n",
       "      <td>[The Safdarjung Observatory, considered the of...</td>\n",
       "    </tr>\n",
       "    <tr>\n",
       "      <th>2</th>\n",
       "      <td>1</td>\n",
       "      <td>78</td>\n",
       "      <td>1_schools_students_summer_teachers</td>\n",
       "      <td>[schools, students, summer, teachers, timings,...</td>\n",
       "      <td>[KOLKATA: One by one, Kolkata's schools have s...</td>\n",
       "    </tr>\n",
       "    <tr>\n",
       "      <th>3</th>\n",
       "      <td>2</td>\n",
       "      <td>61</td>\n",
       "      <td>2_degrees_temperature_maximum_normal</td>\n",
       "      <td>[degrees, temperature, maximum, normal, city, ...</td>\n",
       "      <td>[Gurgaon: The city continued to reel under the...</td>\n",
       "    </tr>\n",
       "    <tr>\n",
       "      <th>4</th>\n",
       "      <td>3</td>\n",
       "      <td>52</td>\n",
       "      <td>3_metro_green_urban_gardens</td>\n",
       "      <td>[metro, green, urban, gardens, tree, hyderabad...</td>\n",
       "      <td>[Hyderabad: With the GHMC planning to give a m...</td>\n",
       "    </tr>\n",
       "    <tr>\n",
       "      <th>5</th>\n",
       "      <td>4</td>\n",
       "      <td>52</td>\n",
       "      <td>4_surendranagar_temperature_maximum_forecast</td>\n",
       "      <td>[surendranagar, temperature, maximum, forecast...</td>\n",
       "      <td>[Ahmedabad: It will be a hot Sunday for Amdava...</td>\n",
       "    </tr>\n",
       "    <tr>\n",
       "      <th>6</th>\n",
       "      <td>5</td>\n",
       "      <td>46</td>\n",
       "      <td>5_wheat_tonnes_prices_exports</td>\n",
       "      <td>[wheat, tonnes, prices, exports, crop, product...</td>\n",
       "      <td>[NEW DELHI: In a drastic move, India on Saturd...</td>\n",
       "    </tr>\n",
       "    <tr>\n",
       "      <th>7</th>\n",
       "      <td>6</td>\n",
       "      <td>44</td>\n",
       "      <td>6_degrees_temperature_maximum_normal</td>\n",
       "      <td>[degrees, temperature, maximum, normal, heatwa...</td>\n",
       "      <td>[Ludhiana: Residents grappled with severe heat...</td>\n",
       "    </tr>\n",
       "    <tr>\n",
       "      <th>8</th>\n",
       "      <td>7</td>\n",
       "      <td>43</td>\n",
       "      <td>7_coal_electricity_outages_plants</td>\n",
       "      <td>[coal, electricity, outages, plants, cuts, sho...</td>\n",
       "      <td>[NEW DELHI: With large parts of the country fa...</td>\n",
       "    </tr>\n",
       "    <tr>\n",
       "      <th>9</th>\n",
       "      <td>8</td>\n",
       "      <td>43</td>\n",
       "      <td>8_degrees_celsius_mercury_maximum</td>\n",
       "      <td>[degrees, celsius, mercury, maximum, temperatu...</td>\n",
       "      <td>[The mercury in Delhi, which recorded its hott...</td>\n",
       "    </tr>\n",
       "    <tr>\n",
       "      <th>10</th>\n",
       "      <td>9</td>\n",
       "      <td>42</td>\n",
       "      <td>9_fires_firefighters_fire_spain</td>\n",
       "      <td>[fires, firefighters, fire, spain, wildfires, ...</td>\n",
       "      <td>[JERTE, SPAIN: Authorities across southern Eur...</td>\n",
       "    </tr>\n",
       "    <tr>\n",
       "      <th>11</th>\n",
       "      <td>10</td>\n",
       "      <td>42</td>\n",
       "      <td>10_china_province_yangtze_shanghai</td>\n",
       "      <td>[china, province, yangtze, shanghai, drought, ...</td>\n",
       "      <td>[NEW DELHI: Wan Jinjun, a 62-year-old retiree ...</td>\n",
       "    </tr>\n",
       "    <tr>\n",
       "      <th>12</th>\n",
       "      <td>11</td>\n",
       "      <td>37</td>\n",
       "      <td>11_climate_emissions_warming_global</td>\n",
       "      <td>[climate, emissions, warming, global, carbon, ...</td>\n",
       "      <td>[PARIS: Nearly 200 nations start online negoti...</td>\n",
       "    </tr>\n",
       "    <tr>\n",
       "      <th>13</th>\n",
       "      <td>12</td>\n",
       "      <td>32</td>\n",
       "      <td>12_demand_power_electricity_delhi</td>\n",
       "      <td>[demand, power, electricity, delhi, coal, plan...</td>\n",
       "      <td>[This is an increase of over 28 percent from A...</td>\n",
       "    </tr>\n",
       "    <tr>\n",
       "      <th>14</th>\n",
       "      <td>13</td>\n",
       "      <td>32</td>\n",
       "      <td>13_heatwave_districts_conditions_pradesh</td>\n",
       "      <td>[heatwave, districts, conditions, pradesh, met...</td>\n",
       "      <td>[NEW DELHI: Heatwave conditions in parts of ce...</td>\n",
       "    </tr>\n",
       "    <tr>\n",
       "      <th>15</th>\n",
       "      <td>14</td>\n",
       "      <td>32</td>\n",
       "      <td>14_greece_fire_fires_wildfires</td>\n",
       "      <td>[greece, fire, fires, wildfires, flames, burne...</td>\n",
       "      <td>[PSAROPOULI, GREECE: Thousands of people have ...</td>\n",
       "    </tr>\n",
       "    <tr>\n",
       "      <th>16</th>\n",
       "      <td>15</td>\n",
       "      <td>31</td>\n",
       "      <td>15_champion_hamilton_test_ferrari</td>\n",
       "      <td>[champion, hamilton, test, ferrari, race, tour...</td>\n",
       "      <td>[LONDON: Novak Djokovic insists it's only fair...</td>\n",
       "    </tr>\n",
       "    <tr>\n",
       "      <th>17</th>\n",
       "      <td>16</td>\n",
       "      <td>31</td>\n",
       "      <td>16_heatwave_districts_conditions_temperature</td>\n",
       "      <td>[heatwave, districts, conditions, temperature,...</td>\n",
       "      <td>[NEW DELHI: Amid a punishing heatwave building...</td>\n",
       "    </tr>\n",
       "    <tr>\n",
       "      <th>18</th>\n",
       "      <td>17</td>\n",
       "      <td>31</td>\n",
       "      <td>17_reef_fire_bushfire_coral</td>\n",
       "      <td>[reef, fire, bushfire, coral, bushfires, fires...</td>\n",
       "      <td>[SYDNEY: Australia ordered residents and touri...</td>\n",
       "    </tr>\n",
       "    <tr>\n",
       "      <th>19</th>\n",
       "      <td>18</td>\n",
       "      <td>31</td>\n",
       "      <td>18_deaths_aurangabad_death_districts</td>\n",
       "      <td>[deaths, aurangabad, death, districts, died, h...</td>\n",
       "      <td>[PATNA: Severe heatwave has claimed the lives ...</td>\n",
       "    </tr>\n",
       "    <tr>\n",
       "      <th>20</th>\n",
       "      <td>19</td>\n",
       "      <td>30</td>\n",
       "      <td>19_degrees_maximum_recorded_temperature</td>\n",
       "      <td>[degrees, maximum, recorded, temperature, jodh...</td>\n",
       "      <td>[JAIPUR: Severe heatwave conditions in Rajasth...</td>\n",
       "    </tr>\n",
       "    <tr>\n",
       "      <th>21</th>\n",
       "      <td>20</td>\n",
       "      <td>30</td>\n",
       "      <td>20_bhubaneswar_temperature_districts_coastal</td>\n",
       "      <td>[bhubaneswar, temperature, districts, coastal,...</td>\n",
       "      <td>[BHUBANESWAR: Bolangir was the hottest place i...</td>\n",
       "    </tr>\n",
       "    <tr>\n",
       "      <th>22</th>\n",
       "      <td>21</td>\n",
       "      <td>30</td>\n",
       "      <td>21_sleep_heat_water_heatstroke</td>\n",
       "      <td>[sleep, heat, water, heatstroke, coolers, heal...</td>\n",
       "      <td>[Gurgaon: Doctors at several hospitals said th...</td>\n",
       "    </tr>\n",
       "    <tr>\n",
       "      <th>23</th>\n",
       "      <td>22</td>\n",
       "      <td>30</td>\n",
       "      <td>22_hottest_chandrapur_temperature_highest</td>\n",
       "      <td>[hottest, chandrapur, temperature, highest, wa...</td>\n",
       "      <td>[Nagpur: Akola and Buldhana districts experien...</td>\n",
       "    </tr>\n",
       "    <tr>\n",
       "      <th>24</th>\n",
       "      <td>23</td>\n",
       "      <td>29</td>\n",
       "      <td>23_birds_animals_zoo_bear</td>\n",
       "      <td>[birds, animals, zoo, bear, water, pets, anima...</td>\n",
       "      <td>[Gurgaon: The weather may have turned for the ...</td>\n",
       "    </tr>\n",
       "    <tr>\n",
       "      <th>25</th>\n",
       "      <td>24</td>\n",
       "      <td>29</td>\n",
       "      <td>24_celsius_degrees_mercury_temperature</td>\n",
       "      <td>[celsius, degrees, mercury, temperature, heat,...</td>\n",
       "      <td>[NEW DELHI: The intense heatwave sweeping nort...</td>\n",
       "    </tr>\n",
       "    <tr>\n",
       "      <th>26</th>\n",
       "      <td>25</td>\n",
       "      <td>28</td>\n",
       "      <td>25_london_temperatures_extreme_record</td>\n",
       "      <td>[london, temperatures, extreme, record, warnin...</td>\n",
       "      <td>[LONDON: Britain on Monday issued an extreme h...</td>\n",
       "    </tr>\n",
       "    <tr>\n",
       "      <th>27</th>\n",
       "      <td>26</td>\n",
       "      <td>27</td>\n",
       "      <td>26_france_paris_french_europe</td>\n",
       "      <td>[france, paris, french, europe, temperatures, ...</td>\n",
       "      <td>[PARIS: Europe was bracing itself for a swelte...</td>\n",
       "    </tr>\n",
       "    <tr>\n",
       "      <th>28</th>\n",
       "      <td>27</td>\n",
       "      <td>26</td>\n",
       "      <td>27_rainfall_rain_showers_weather</td>\n",
       "      <td>[rainfall, rain, showers, weather, monsoon, di...</td>\n",
       "      <td>[BENGALURU: Sweltering under the blazing sun, ...</td>\n",
       "    </tr>\n",
       "    <tr>\n",
       "      <th>29</th>\n",
       "      <td>28</td>\n",
       "      <td>25</td>\n",
       "      <td>28_delhi_rain_winds_fog</td>\n",
       "      <td>[delhi, rain, winds, fog, weather, city, thund...</td>\n",
       "      <td>[NEW DELHI: While India Meteorological Departm...</td>\n",
       "    </tr>\n",
       "    <tr>\n",
       "      <th>30</th>\n",
       "      <td>29</td>\n",
       "      <td>25</td>\n",
       "      <td>29_plan_ndma_state_preparedness</td>\n",
       "      <td>[plan, ndma, state, preparedness, minister, fi...</td>\n",
       "      <td>[During the meeting, the IMD and the NDMA brie...</td>\n",
       "    </tr>\n",
       "    <tr>\n",
       "      <th>31</th>\n",
       "      <td>30</td>\n",
       "      <td>24</td>\n",
       "      <td>30_water_tankers_supply_wazirabad</td>\n",
       "      <td>[water, tankers, supply, wazirabad, airport, d...</td>\n",
       "      <td>[NEW DELHI: Amid a deadly heatwave building up...</td>\n",
       "    </tr>\n",
       "    <tr>\n",
       "      <th>32</th>\n",
       "      <td>31</td>\n",
       "      <td>23</td>\n",
       "      <td>31_canada_heat_vancouver_temperatures</td>\n",
       "      <td>[canada, heat, vancouver, temperatures, canadi...</td>\n",
       "      <td>[VANCOUVER: Hundreds of people were evacuated ...</td>\n",
       "    </tr>\n",
       "    <tr>\n",
       "      <th>33</th>\n",
       "      <td>32</td>\n",
       "      <td>23</td>\n",
       "      <td>32_monsoon_rainfall_southwest_india</td>\n",
       "      <td>[monsoon, rainfall, southwest, india, date, fo...</td>\n",
       "      <td>[Meanwhile, several parts of the country, incl...</td>\n",
       "    </tr>\n",
       "    <tr>\n",
       "      <th>34</th>\n",
       "      <td>33</td>\n",
       "      <td>20</td>\n",
       "      <td>33_तापमान_मौसम_बारिश_अधिकतम</td>\n",
       "      <td>[तापमान, मौसम, बारिश, अधिकतम, गर्मी, न्यूनतम, ...</td>\n",
       "      <td>[Weather Update, IMD Prediction, Heatwave Aler...</td>\n",
       "    </tr>\n",
       "    <tr>\n",
       "      <th>35</th>\n",
       "      <td>34</td>\n",
       "      <td>20</td>\n",
       "      <td>34_california_fire_angeles_floods</td>\n",
       "      <td>[california, fire, angeles, floods, acres, wil...</td>\n",
       "      <td>[LOS ANGELES: The first major wildfires after ...</td>\n",
       "    </tr>\n",
       "    <tr>\n",
       "      <th>36</th>\n",
       "      <td>35</td>\n",
       "      <td>20</td>\n",
       "      <td>35_pollution_ozone_levels_pollutants</td>\n",
       "      <td>[pollution, ozone, levels, pollutants, mumbai,...</td>\n",
       "      <td>[Nagpur: Air pollution is not just a winter th...</td>\n",
       "    </tr>\n",
       "    <tr>\n",
       "      <th>37</th>\n",
       "      <td>36</td>\n",
       "      <td>19</td>\n",
       "      <td>36_anushka_instagram_sharma_actress</td>\n",
       "      <td>[anushka, instagram, sharma, actress, cricket,...</td>\n",
       "      <td>[Sumona Chakravarti shared this image. (Courte...</td>\n",
       "    </tr>\n",
       "    <tr>\n",
       "      <th>38</th>\n",
       "      <td>37</td>\n",
       "      <td>19</td>\n",
       "      <td>37_tokyo_japan_olympics_2020</td>\n",
       "      <td>[tokyo, japan, olympics, 2020, murder, heatstr...</td>\n",
       "      <td>[TOKYO: Tokyo 2020 organisers on Friday unveil...</td>\n",
       "    </tr>\n",
       "    <tr>\n",
       "      <th>39</th>\n",
       "      <td>38</td>\n",
       "      <td>18</td>\n",
       "      <td>38_degrees_pradesh_recorded_maximum</td>\n",
       "      <td>[degrees, pradesh, recorded, maximum, heatwave...</td>\n",
       "      <td>[NEW DELHI: Heatwave conditions intensified in...</td>\n",
       "    </tr>\n",
       "    <tr>\n",
       "      <th>40</th>\n",
       "      <td>39</td>\n",
       "      <td>17</td>\n",
       "      <td>39_climate_temperatures_energy_women</td>\n",
       "      <td>[climate, temperatures, energy, women, heat, p...</td>\n",
       "      <td>[Heatwave: Continued global warming guarantees...</td>\n",
       "    </tr>\n",
       "    <tr>\n",
       "      <th>41</th>\n",
       "      <td>40</td>\n",
       "      <td>17</td>\n",
       "      <td>40_hyderabad_conditions_temperature_heatwave</td>\n",
       "      <td>[hyderabad, conditions, temperature, heatwave,...</td>\n",
       "      <td>[HYDERABAD: Heatwave conditions continued to g...</td>\n",
       "    </tr>\n",
       "    <tr>\n",
       "      <th>42</th>\n",
       "      <td>41</td>\n",
       "      <td>16</td>\n",
       "      <td>41_spain_france_portugal_fires</td>\n",
       "      <td>[spain, france, portugal, fires, temperatures,...</td>\n",
       "      <td>[The mass of hot air which pushed temperatures...</td>\n",
       "    </tr>\n",
       "    <tr>\n",
       "      <th>43</th>\n",
       "      <td>42</td>\n",
       "      <td>16</td>\n",
       "      <td>42_temperature_heatwave_maximum_degrees</td>\n",
       "      <td>[temperature, heatwave, maximum, degrees, weat...</td>\n",
       "      <td>[NEW DELHI: Delhi reeled under a heatwave for ...</td>\n",
       "    </tr>\n",
       "    <tr>\n",
       "      <th>44</th>\n",
       "      <td>43</td>\n",
       "      <td>16</td>\n",
       "      <td>43_rainfall_pradesh_india_isolated</td>\n",
       "      <td>[rainfall, pradesh, india, isolated, cyclonic,...</td>\n",
       "      <td>[According to an official release, a low-press...</td>\n",
       "    </tr>\n",
       "    <tr>\n",
       "      <th>45</th>\n",
       "      <td>44</td>\n",
       "      <td>15</td>\n",
       "      <td>44_inflation_prices_growth_fiscal</td>\n",
       "      <td>[inflation, prices, growth, fiscal, india, rat...</td>\n",
       "      <td>[If realised, inflation would be above 7% for ...</td>\n",
       "    </tr>\n",
       "    <tr>\n",
       "      <th>46</th>\n",
       "      <td>45</td>\n",
       "      <td>15</td>\n",
       "      <td>45_maharashtra_temperatures_temperature_mumbai</td>\n",
       "      <td>[maharashtra, temperatures, temperature, mumba...</td>\n",
       "      <td>[Pune: Chandrapur in eastern Maharashtra sizzl...</td>\n",
       "    </tr>\n",
       "    <tr>\n",
       "      <th>47</th>\n",
       "      <td>46</td>\n",
       "      <td>15</td>\n",
       "      <td>46_celsius_degrees_temperature_maximum</td>\n",
       "      <td>[celsius, degrees, temperature, maximum, norma...</td>\n",
       "      <td>[NEW DELHI: The maximum temperature in the nat...</td>\n",
       "    </tr>\n",
       "    <tr>\n",
       "      <th>48</th>\n",
       "      <td>47</td>\n",
       "      <td>13</td>\n",
       "      <td>47_india_average_temperatures_temperature</td>\n",
       "      <td>[india, average, temperatures, temperature, he...</td>\n",
       "      <td>[This year, Northwest India recorded the hotte...</td>\n",
       "    </tr>\n",
       "    <tr>\n",
       "      <th>49</th>\n",
       "      <td>48</td>\n",
       "      <td>13</td>\n",
       "      <td>48_degrees_temperature_maximum_march</td>\n",
       "      <td>[degrees, temperature, maximum, march, mercury...</td>\n",
       "      <td>[NEW DELHI: With the mercury crossing 41 degre...</td>\n",
       "    </tr>\n",
       "    <tr>\n",
       "      <th>50</th>\n",
       "      <td>49</td>\n",
       "      <td>13</td>\n",
       "      <td>49_daltonganj_jamshedpur_rainfall_garhwa</td>\n",
       "      <td>[daltonganj, jamshedpur, rainfall, garhwa, tem...</td>\n",
       "      <td>[Ranchi: After a brief rain respite in isolate...</td>\n",
       "    </tr>\n",
       "    <tr>\n",
       "      <th>51</th>\n",
       "      <td>50</td>\n",
       "      <td>13</td>\n",
       "      <td>50_buses_inverter_demand_acs</td>\n",
       "      <td>[buses, inverter, demand, acs, cab, coolers, e...</td>\n",
       "      <td>[Bhubaneswar: The scorching heat has forced pa...</td>\n",
       "    </tr>\n",
       "    <tr>\n",
       "      <th>52</th>\n",
       "      <td>51</td>\n",
       "      <td>12</td>\n",
       "      <td>51_rain_monsoon_thunderstorm_mercury</td>\n",
       "      <td>[rain, monsoon, thunderstorm, mercury, wind, h...</td>\n",
       "      <td>[KOLKATA: The city continued to be scorched by...</td>\n",
       "    </tr>\n",
       "    <tr>\n",
       "      <th>53</th>\n",
       "      <td>52</td>\n",
       "      <td>12</td>\n",
       "      <td>52_mango_mangoes_variety_market</td>\n",
       "      <td>[mango, mangoes, variety, market, tomatoes, fr...</td>\n",
       "      <td>[Surat: For mango lovers, this could be a good...</td>\n",
       "    </tr>\n",
       "    <tr>\n",
       "      <th>54</th>\n",
       "      <td>53</td>\n",
       "      <td>10</td>\n",
       "      <td>53_died_karachi_doctors_stroke</td>\n",
       "      <td>[died, karachi, doctors, stroke, bodies, morgu...</td>\n",
       "      <td>[KARACHI: At least 65 people died of heatstrok...</td>\n",
       "    </tr>\n",
       "    <tr>\n",
       "      <th>55</th>\n",
       "      <td>54</td>\n",
       "      <td>10</td>\n",
       "      <td>54_arctic_russian_temperatures_ice</td>\n",
       "      <td>[arctic, russian, temperatures, ice, glaciers,...</td>\n",
       "      <td>[Ukraine has put up a spirited resistance to t...</td>\n",
       "    </tr>\n",
       "  </tbody>\n",
       "</table>\n",
       "</div>"
      ],
      "text/plain": [
       "    Topic  Count                                            Name  \\\n",
       "0      -1    571            -1_degrees_temperature_heatwave_heat   \n",
       "1       0    118             0_degrees_delhi_maximum_temperature   \n",
       "2       1     78              1_schools_students_summer_teachers   \n",
       "3       2     61            2_degrees_temperature_maximum_normal   \n",
       "4       3     52                     3_metro_green_urban_gardens   \n",
       "5       4     52    4_surendranagar_temperature_maximum_forecast   \n",
       "6       5     46                   5_wheat_tonnes_prices_exports   \n",
       "7       6     44            6_degrees_temperature_maximum_normal   \n",
       "8       7     43               7_coal_electricity_outages_plants   \n",
       "9       8     43               8_degrees_celsius_mercury_maximum   \n",
       "10      9     42                 9_fires_firefighters_fire_spain   \n",
       "11     10     42              10_china_province_yangtze_shanghai   \n",
       "12     11     37             11_climate_emissions_warming_global   \n",
       "13     12     32               12_demand_power_electricity_delhi   \n",
       "14     13     32        13_heatwave_districts_conditions_pradesh   \n",
       "15     14     32                  14_greece_fire_fires_wildfires   \n",
       "16     15     31               15_champion_hamilton_test_ferrari   \n",
       "17     16     31    16_heatwave_districts_conditions_temperature   \n",
       "18     17     31                     17_reef_fire_bushfire_coral   \n",
       "19     18     31            18_deaths_aurangabad_death_districts   \n",
       "20     19     30         19_degrees_maximum_recorded_temperature   \n",
       "21     20     30    20_bhubaneswar_temperature_districts_coastal   \n",
       "22     21     30                  21_sleep_heat_water_heatstroke   \n",
       "23     22     30       22_hottest_chandrapur_temperature_highest   \n",
       "24     23     29                       23_birds_animals_zoo_bear   \n",
       "25     24     29          24_celsius_degrees_mercury_temperature   \n",
       "26     25     28           25_london_temperatures_extreme_record   \n",
       "27     26     27                   26_france_paris_french_europe   \n",
       "28     27     26                27_rainfall_rain_showers_weather   \n",
       "29     28     25                         28_delhi_rain_winds_fog   \n",
       "30     29     25                 29_plan_ndma_state_preparedness   \n",
       "31     30     24               30_water_tankers_supply_wazirabad   \n",
       "32     31     23           31_canada_heat_vancouver_temperatures   \n",
       "33     32     23             32_monsoon_rainfall_southwest_india   \n",
       "34     33     20                     33_तापमान_मौसम_बारिश_अधिकतम   \n",
       "35     34     20               34_california_fire_angeles_floods   \n",
       "36     35     20            35_pollution_ozone_levels_pollutants   \n",
       "37     36     19             36_anushka_instagram_sharma_actress   \n",
       "38     37     19                    37_tokyo_japan_olympics_2020   \n",
       "39     38     18             38_degrees_pradesh_recorded_maximum   \n",
       "40     39     17            39_climate_temperatures_energy_women   \n",
       "41     40     17    40_hyderabad_conditions_temperature_heatwave   \n",
       "42     41     16                  41_spain_france_portugal_fires   \n",
       "43     42     16         42_temperature_heatwave_maximum_degrees   \n",
       "44     43     16              43_rainfall_pradesh_india_isolated   \n",
       "45     44     15               44_inflation_prices_growth_fiscal   \n",
       "46     45     15  45_maharashtra_temperatures_temperature_mumbai   \n",
       "47     46     15          46_celsius_degrees_temperature_maximum   \n",
       "48     47     13       47_india_average_temperatures_temperature   \n",
       "49     48     13            48_degrees_temperature_maximum_march   \n",
       "50     49     13        49_daltonganj_jamshedpur_rainfall_garhwa   \n",
       "51     50     13                    50_buses_inverter_demand_acs   \n",
       "52     51     12            51_rain_monsoon_thunderstorm_mercury   \n",
       "53     52     12                 52_mango_mangoes_variety_market   \n",
       "54     53     10                  53_died_karachi_doctors_stroke   \n",
       "55     54     10              54_arctic_russian_temperatures_ice   \n",
       "\n",
       "                                       Representation  \\\n",
       "0   [degrees, temperature, heatwave, heat, climate...   \n",
       "1   [degrees, delhi, maximum, temperature, heatwav...   \n",
       "2   [schools, students, summer, teachers, timings,...   \n",
       "3   [degrees, temperature, maximum, normal, city, ...   \n",
       "4   [metro, green, urban, gardens, tree, hyderabad...   \n",
       "5   [surendranagar, temperature, maximum, forecast...   \n",
       "6   [wheat, tonnes, prices, exports, crop, product...   \n",
       "7   [degrees, temperature, maximum, normal, heatwa...   \n",
       "8   [coal, electricity, outages, plants, cuts, sho...   \n",
       "9   [degrees, celsius, mercury, maximum, temperatu...   \n",
       "10  [fires, firefighters, fire, spain, wildfires, ...   \n",
       "11  [china, province, yangtze, shanghai, drought, ...   \n",
       "12  [climate, emissions, warming, global, carbon, ...   \n",
       "13  [demand, power, electricity, delhi, coal, plan...   \n",
       "14  [heatwave, districts, conditions, pradesh, met...   \n",
       "15  [greece, fire, fires, wildfires, flames, burne...   \n",
       "16  [champion, hamilton, test, ferrari, race, tour...   \n",
       "17  [heatwave, districts, conditions, temperature,...   \n",
       "18  [reef, fire, bushfire, coral, bushfires, fires...   \n",
       "19  [deaths, aurangabad, death, districts, died, h...   \n",
       "20  [degrees, maximum, recorded, temperature, jodh...   \n",
       "21  [bhubaneswar, temperature, districts, coastal,...   \n",
       "22  [sleep, heat, water, heatstroke, coolers, heal...   \n",
       "23  [hottest, chandrapur, temperature, highest, wa...   \n",
       "24  [birds, animals, zoo, bear, water, pets, anima...   \n",
       "25  [celsius, degrees, mercury, temperature, heat,...   \n",
       "26  [london, temperatures, extreme, record, warnin...   \n",
       "27  [france, paris, french, europe, temperatures, ...   \n",
       "28  [rainfall, rain, showers, weather, monsoon, di...   \n",
       "29  [delhi, rain, winds, fog, weather, city, thund...   \n",
       "30  [plan, ndma, state, preparedness, minister, fi...   \n",
       "31  [water, tankers, supply, wazirabad, airport, d...   \n",
       "32  [canada, heat, vancouver, temperatures, canadi...   \n",
       "33  [monsoon, rainfall, southwest, india, date, fo...   \n",
       "34  [तापमान, मौसम, बारिश, अधिकतम, गर्मी, न्यूनतम, ...   \n",
       "35  [california, fire, angeles, floods, acres, wil...   \n",
       "36  [pollution, ozone, levels, pollutants, mumbai,...   \n",
       "37  [anushka, instagram, sharma, actress, cricket,...   \n",
       "38  [tokyo, japan, olympics, 2020, murder, heatstr...   \n",
       "39  [degrees, pradesh, recorded, maximum, heatwave...   \n",
       "40  [climate, temperatures, energy, women, heat, p...   \n",
       "41  [hyderabad, conditions, temperature, heatwave,...   \n",
       "42  [spain, france, portugal, fires, temperatures,...   \n",
       "43  [temperature, heatwave, maximum, degrees, weat...   \n",
       "44  [rainfall, pradesh, india, isolated, cyclonic,...   \n",
       "45  [inflation, prices, growth, fiscal, india, rat...   \n",
       "46  [maharashtra, temperatures, temperature, mumba...   \n",
       "47  [celsius, degrees, temperature, maximum, norma...   \n",
       "48  [india, average, temperatures, temperature, he...   \n",
       "49  [degrees, temperature, maximum, march, mercury...   \n",
       "50  [daltonganj, jamshedpur, rainfall, garhwa, tem...   \n",
       "51  [buses, inverter, demand, acs, cab, coolers, e...   \n",
       "52  [rain, monsoon, thunderstorm, mercury, wind, h...   \n",
       "53  [mango, mangoes, variety, market, tomatoes, fr...   \n",
       "54  [died, karachi, doctors, stroke, bodies, morgu...   \n",
       "55  [arctic, russian, temperatures, ice, glaciers,...   \n",
       "\n",
       "                                  Representative_Docs  \n",
       "0   [NEW DELHI: Parts of Delhi sweltered under a s...  \n",
       "1   [The Safdarjung Observatory, considered the of...  \n",
       "2   [KOLKATA: One by one, Kolkata's schools have s...  \n",
       "3   [Gurgaon: The city continued to reel under the...  \n",
       "4   [Hyderabad: With the GHMC planning to give a m...  \n",
       "5   [Ahmedabad: It will be a hot Sunday for Amdava...  \n",
       "6   [NEW DELHI: In a drastic move, India on Saturd...  \n",
       "7   [Ludhiana: Residents grappled with severe heat...  \n",
       "8   [NEW DELHI: With large parts of the country fa...  \n",
       "9   [The mercury in Delhi, which recorded its hott...  \n",
       "10  [JERTE, SPAIN: Authorities across southern Eur...  \n",
       "11  [NEW DELHI: Wan Jinjun, a 62-year-old retiree ...  \n",
       "12  [PARIS: Nearly 200 nations start online negoti...  \n",
       "13  [This is an increase of over 28 percent from A...  \n",
       "14  [NEW DELHI: Heatwave conditions in parts of ce...  \n",
       "15  [PSAROPOULI, GREECE: Thousands of people have ...  \n",
       "16  [LONDON: Novak Djokovic insists it's only fair...  \n",
       "17  [NEW DELHI: Amid a punishing heatwave building...  \n",
       "18  [SYDNEY: Australia ordered residents and touri...  \n",
       "19  [PATNA: Severe heatwave has claimed the lives ...  \n",
       "20  [JAIPUR: Severe heatwave conditions in Rajasth...  \n",
       "21  [BHUBANESWAR: Bolangir was the hottest place i...  \n",
       "22  [Gurgaon: Doctors at several hospitals said th...  \n",
       "23  [Nagpur: Akola and Buldhana districts experien...  \n",
       "24  [Gurgaon: The weather may have turned for the ...  \n",
       "25  [NEW DELHI: The intense heatwave sweeping nort...  \n",
       "26  [LONDON: Britain on Monday issued an extreme h...  \n",
       "27  [PARIS: Europe was bracing itself for a swelte...  \n",
       "28  [BENGALURU: Sweltering under the blazing sun, ...  \n",
       "29  [NEW DELHI: While India Meteorological Departm...  \n",
       "30  [During the meeting, the IMD and the NDMA brie...  \n",
       "31  [NEW DELHI: Amid a deadly heatwave building up...  \n",
       "32  [VANCOUVER: Hundreds of people were evacuated ...  \n",
       "33  [Meanwhile, several parts of the country, incl...  \n",
       "34  [Weather Update, IMD Prediction, Heatwave Aler...  \n",
       "35  [LOS ANGELES: The first major wildfires after ...  \n",
       "36  [Nagpur: Air pollution is not just a winter th...  \n",
       "37  [Sumona Chakravarti shared this image. (Courte...  \n",
       "38  [TOKYO: Tokyo 2020 organisers on Friday unveil...  \n",
       "39  [NEW DELHI: Heatwave conditions intensified in...  \n",
       "40  [Heatwave: Continued global warming guarantees...  \n",
       "41  [HYDERABAD: Heatwave conditions continued to g...  \n",
       "42  [The mass of hot air which pushed temperatures...  \n",
       "43  [NEW DELHI: Delhi reeled under a heatwave for ...  \n",
       "44  [According to an official release, a low-press...  \n",
       "45  [If realised, inflation would be above 7% for ...  \n",
       "46  [Pune: Chandrapur in eastern Maharashtra sizzl...  \n",
       "47  [NEW DELHI: The maximum temperature in the nat...  \n",
       "48  [This year, Northwest India recorded the hotte...  \n",
       "49  [NEW DELHI: With the mercury crossing 41 degre...  \n",
       "50  [Ranchi: After a brief rain respite in isolate...  \n",
       "51  [Bhubaneswar: The scorching heat has forced pa...  \n",
       "52  [KOLKATA: The city continued to be scorched by...  \n",
       "53  [Surat: For mango lovers, this could be a good...  \n",
       "54  [KARACHI: At least 65 people died of heatstrok...  \n",
       "55  [Ukraine has put up a spirited resistance to t...  "
      ]
     },
     "execution_count": 79,
     "metadata": {},
     "output_type": "execute_result"
    }
   ],
   "source": [
    "topic_inmodel.get_topic_info()"
   ]
  },
  {
   "cell_type": "code",
   "execution_count": 81,
   "id": "4519b20b-64b3-447d-91a2-d5724aa47884",
   "metadata": {},
   "outputs": [
    {
     "name": "stderr",
     "output_type": "stream",
     "text": [
      "2024-10-16 14:14:34,727 - BERTopic - WARNING: When you use `pickle` to save/load a BERTopic model,please make sure that the environments in which you saveand load the model are **exactly** the same. The version of BERTopic,its dependencies, and python need to remain the same.\n"
     ]
    }
   ],
   "source": [
    "# save the model for later use\n",
    "\n",
    "topic_inmodel.save(\"topic_inmodel\")"
   ]
  },
  {
   "cell_type": "code",
   "execution_count": null,
   "id": "0432d5a5-4aec-4e4d-a15a-2ff20a7829e9",
   "metadata": {},
   "outputs": [],
   "source": []
  }
 ],
 "metadata": {
  "kernelspec": {
   "display_name": "Python 3 (ipykernel)",
   "language": "python",
   "name": "python3"
  },
  "language_info": {
   "codemirror_mode": {
    "name": "ipython",
    "version": 3
   },
   "file_extension": ".py",
   "mimetype": "text/x-python",
   "name": "python",
   "nbconvert_exporter": "python",
   "pygments_lexer": "ipython3",
   "version": "3.12.4"
  }
 },
 "nbformat": 4,
 "nbformat_minor": 5
}
